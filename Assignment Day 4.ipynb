{
 "cells": [
  {
   "cell_type": "markdown",
   "metadata": {},
   "source": [
    "# Question 1 \n",
    "Research on whether addition, subtraction, multiplication, division, floor division and modulo\n",
    "operations be performed on complex numbers. Based on your study, implement a Python\n",
    "program to demonstrate these operations."
   ]
  },
  {
   "cell_type": "raw",
   "metadata": {},
   "source": [
    "Generally, addition, subtraction, multiplication, division operations be performed on complex numbers. Floor division and modulo  cannot be performed. "
   ]
  },
  {
   "cell_type": "code",
   "execution_count": 22,
   "metadata": {},
   "outputs": [
    {
     "name": "stdout",
     "output_type": "stream",
     "text": [
      "Addition of two complex numbers:  (8+12j)\n",
      "Subtraction of two complex numbers:  (-4-6j)\n",
      "Multiplication of two complex numbers:  (-15+36j)\n",
      "Division of two complex numbers:  (0.3333333333333333+0j)\n"
     ]
    }
   ],
   "source": [
    "import math\n",
    "print(\"Addition of two complex numbers: \", (2+3j) + (6+9j))\n",
    "print(\"Subtraction of two complex numbers: \", (2+3j) - (6+9j))\n",
    "print(\"Multiplication of two complex numbers: \", (2+3j) * (6+9j))\n",
    "print(\"Division of two complex numbers: \", (2+3j) / (6+9j))\n",
    "\n",
    "# print(\"Floor Division of two complex numbers: \", math.floor(2+3j) / math.floor(6+9j))  This will create an error\n",
    "# print(\"Mod of two complex numbers: \", (2+3j) % (6+9j))                                 This will create an error"
   ]
  },
  {
   "cell_type": "markdown",
   "metadata": {},
   "source": [
    "# Question 2\n",
    "Research on range() functions and its parameters. Create a markdown cell and write in your own\n",
    "words (no copy-paste from google please) what you understand about it. Implement a small\n",
    "program of your choice on the same."
   ]
  },
  {
   "cell_type": "markdown",
   "metadata": {},
   "source": [
    "The range() function would generate a function from starting index to ending index minus 1. "
   ]
  },
  {
   "cell_type": "code",
   "execution_count": 15,
   "metadata": {},
   "outputs": [
    {
     "name": "stdout",
     "output_type": "stream",
     "text": [
      "1\n",
      "2\n",
      "3\n",
      "4\n",
      "5\n",
      "6\n",
      "7\n",
      "8\n",
      "9\n",
      "10\n",
      "11\n",
      "12\n"
     ]
    }
   ],
   "source": [
    "for i in range(1,13):\n",
    "    print(i)"
   ]
  },
  {
   "cell_type": "markdown",
   "metadata": {},
   "source": [
    "# Question 3\n",
    "Consider two numbers. Perform their subtraction and if the result of subtraction is greater than\n",
    "25, print their multiplication result else print their division result."
   ]
  },
  {
   "cell_type": "code",
   "execution_count": 21,
   "metadata": {},
   "outputs": [
    {
     "name": "stdout",
     "output_type": "stream",
     "text": [
      "Enter one number: 62\n",
      "Enter another number:32\n",
      "1984\n"
     ]
    }
   ],
   "source": [
    "a = int((input(\"Enter one number: \")))\n",
    "b = int((input(\"Enter another number:\")))\n",
    "two_numbers = a - b\n",
    "if two_numbers > 25:\n",
    "    two_numbers = a * b\n",
    "else:\n",
    "    two_numbers = a / b\n",
    "print(two_numbers)"
   ]
  },
  {
   "cell_type": "markdown",
   "metadata": {},
   "source": [
    "# Question 4\n",
    "Consider a list of 10 elements of integer values. If the number in the list is divisible by 2, print the\n",
    "result as \"square of that number minus 2\"."
   ]
  },
  {
   "cell_type": "code",
   "execution_count": 27,
   "metadata": {},
   "outputs": [
    {
     "name": "stdout",
     "output_type": "stream",
     "text": [
      "2 square of that number minus 2\n",
      "88 square of that number minus 2\n",
      "12 square of that number minus 2\n",
      "56 square of that number minus 2\n",
      "22 square of that number minus 2\n",
      "36 square of that number minus 2\n",
      "256 square of that number minus 2\n"
     ]
    }
   ],
   "source": [
    "ten_numbers = [2,88,12,56,22,35,49,36,39,256]\n",
    "for i in ten_numbers:\n",
    "    if i % 2 == 0:\n",
    "        print(i, \"square of that number minus 2\")"
   ]
  },
  {
   "cell_type": "markdown",
   "metadata": {},
   "source": [
    "# Question 5\n",
    "Consider a list of 10 elements. Print all the elements in the list which are greater than 7 when that\n",
    "number is divided 2."
   ]
  },
  {
   "cell_type": "code",
   "execution_count": 38,
   "metadata": {},
   "outputs": [
    {
     "name": "stdout",
     "output_type": "stream",
     "text": [
      "44.0\n",
      "11.0\n",
      "24.5\n",
      "18.0\n",
      "128.0\n"
     ]
    }
   ],
   "source": [
    "ten_numbers = [2,88,12,-23,22,-35,49,36,5,256]\n",
    "for i in ten_numbers:\n",
    "     i = i/2\n",
    "     if (i > 7):\n",
    "        print(i)"
   ]
  },
  {
   "cell_type": "code",
   "execution_count": null,
   "metadata": {},
   "outputs": [],
   "source": []
  }
 ],
 "metadata": {
  "kernelspec": {
   "display_name": "Python 3",
   "language": "python",
   "name": "python3"
  },
  "language_info": {
   "codemirror_mode": {
    "name": "ipython",
    "version": 3
   },
   "file_extension": ".py",
   "mimetype": "text/x-python",
   "name": "python",
   "nbconvert_exporter": "python",
   "pygments_lexer": "ipython3",
   "version": "3.7.6"
  }
 },
 "nbformat": 4,
 "nbformat_minor": 4
}
